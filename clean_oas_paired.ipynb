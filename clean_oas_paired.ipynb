{
  "nbformat": 4,
  "nbformat_minor": 0,
  "metadata": {
    "colab": {
      "name": "clean_oas_paired.ipynb",
      "provenance": [],
      "mount_file_id": "https://github.com/wjs20/OAS_data_mining/blob/main/clean_oas_paired.ipynb",
      "authorship_tag": "ABX9TyOxPyffmjGcFwA5WkJvdJNo",
      "include_colab_link": true
    },
    "kernelspec": {
      "name": "python3",
      "display_name": "Python 3"
    },
    "widgets": {
      "application/vnd.jupyter.widget-state+json": {
        "92fe1bb7e4734e28927ec4f221e7b672": {
          "model_module": "@jupyter-widgets/controls",
          "model_name": "HBoxModel",
          "state": {
            "_view_name": "HBoxView",
            "_dom_classes": [],
            "_model_name": "HBoxModel",
            "_view_module": "@jupyter-widgets/controls",
            "_model_module_version": "1.5.0",
            "_view_count": null,
            "_view_module_version": "1.5.0",
            "box_style": "",
            "layout": "IPY_MODEL_0cd884816fa04d40ba389e362813c5ab",
            "_model_module": "@jupyter-widgets/controls",
            "children": [
              "IPY_MODEL_0d6c012311d6405aa989f33ad3552c18",
              "IPY_MODEL_a1cf2f7d219d456086dd081eceba537e"
            ]
          }
        },
        "0cd884816fa04d40ba389e362813c5ab": {
          "model_module": "@jupyter-widgets/base",
          "model_name": "LayoutModel",
          "state": {
            "_view_name": "LayoutView",
            "grid_template_rows": null,
            "right": null,
            "justify_content": null,
            "_view_module": "@jupyter-widgets/base",
            "overflow": null,
            "_model_module_version": "1.2.0",
            "_view_count": null,
            "flex_flow": null,
            "width": null,
            "min_width": null,
            "border": null,
            "align_items": null,
            "bottom": null,
            "_model_module": "@jupyter-widgets/base",
            "top": null,
            "grid_column": null,
            "overflow_y": null,
            "overflow_x": null,
            "grid_auto_flow": null,
            "grid_area": null,
            "grid_template_columns": null,
            "flex": null,
            "_model_name": "LayoutModel",
            "justify_items": null,
            "grid_row": null,
            "max_height": null,
            "align_content": null,
            "visibility": null,
            "align_self": null,
            "height": null,
            "min_height": null,
            "padding": null,
            "grid_auto_rows": null,
            "grid_gap": null,
            "max_width": null,
            "order": null,
            "_view_module_version": "1.2.0",
            "grid_template_areas": null,
            "object_position": null,
            "object_fit": null,
            "grid_auto_columns": null,
            "margin": null,
            "display": null,
            "left": null
          }
        },
        "0d6c012311d6405aa989f33ad3552c18": {
          "model_module": "@jupyter-widgets/controls",
          "model_name": "FloatProgressModel",
          "state": {
            "_view_name": "ProgressView",
            "style": "IPY_MODEL_1589db7c509344df94462e57fece46d8",
            "_dom_classes": [],
            "description": "100%",
            "_model_name": "FloatProgressModel",
            "bar_style": "success",
            "max": 47,
            "_view_module": "@jupyter-widgets/controls",
            "_model_module_version": "1.5.0",
            "value": 47,
            "_view_count": null,
            "_view_module_version": "1.5.0",
            "orientation": "horizontal",
            "min": 0,
            "description_tooltip": null,
            "_model_module": "@jupyter-widgets/controls",
            "layout": "IPY_MODEL_eddeee61266b4278aaea6c0da8692d53"
          }
        },
        "a1cf2f7d219d456086dd081eceba537e": {
          "model_module": "@jupyter-widgets/controls",
          "model_name": "HTMLModel",
          "state": {
            "_view_name": "HTMLView",
            "style": "IPY_MODEL_bab2c1edc64341e3b9b9ddb811b6b804",
            "_dom_classes": [],
            "description": "",
            "_model_name": "HTMLModel",
            "placeholder": "​",
            "_view_module": "@jupyter-widgets/controls",
            "_model_module_version": "1.5.0",
            "value": " 47/47 [00:16&lt;00:00,  2.88it/s]",
            "_view_count": null,
            "_view_module_version": "1.5.0",
            "description_tooltip": null,
            "_model_module": "@jupyter-widgets/controls",
            "layout": "IPY_MODEL_9b031743a5af46f4aa67fe457f355038"
          }
        },
        "1589db7c509344df94462e57fece46d8": {
          "model_module": "@jupyter-widgets/controls",
          "model_name": "ProgressStyleModel",
          "state": {
            "_view_name": "StyleView",
            "_model_name": "ProgressStyleModel",
            "description_width": "initial",
            "_view_module": "@jupyter-widgets/base",
            "_model_module_version": "1.5.0",
            "_view_count": null,
            "_view_module_version": "1.2.0",
            "bar_color": null,
            "_model_module": "@jupyter-widgets/controls"
          }
        },
        "eddeee61266b4278aaea6c0da8692d53": {
          "model_module": "@jupyter-widgets/base",
          "model_name": "LayoutModel",
          "state": {
            "_view_name": "LayoutView",
            "grid_template_rows": null,
            "right": null,
            "justify_content": null,
            "_view_module": "@jupyter-widgets/base",
            "overflow": null,
            "_model_module_version": "1.2.0",
            "_view_count": null,
            "flex_flow": null,
            "width": null,
            "min_width": null,
            "border": null,
            "align_items": null,
            "bottom": null,
            "_model_module": "@jupyter-widgets/base",
            "top": null,
            "grid_column": null,
            "overflow_y": null,
            "overflow_x": null,
            "grid_auto_flow": null,
            "grid_area": null,
            "grid_template_columns": null,
            "flex": null,
            "_model_name": "LayoutModel",
            "justify_items": null,
            "grid_row": null,
            "max_height": null,
            "align_content": null,
            "visibility": null,
            "align_self": null,
            "height": null,
            "min_height": null,
            "padding": null,
            "grid_auto_rows": null,
            "grid_gap": null,
            "max_width": null,
            "order": null,
            "_view_module_version": "1.2.0",
            "grid_template_areas": null,
            "object_position": null,
            "object_fit": null,
            "grid_auto_columns": null,
            "margin": null,
            "display": null,
            "left": null
          }
        },
        "bab2c1edc64341e3b9b9ddb811b6b804": {
          "model_module": "@jupyter-widgets/controls",
          "model_name": "DescriptionStyleModel",
          "state": {
            "_view_name": "StyleView",
            "_model_name": "DescriptionStyleModel",
            "description_width": "",
            "_view_module": "@jupyter-widgets/base",
            "_model_module_version": "1.5.0",
            "_view_count": null,
            "_view_module_version": "1.2.0",
            "_model_module": "@jupyter-widgets/controls"
          }
        },
        "9b031743a5af46f4aa67fe457f355038": {
          "model_module": "@jupyter-widgets/base",
          "model_name": "LayoutModel",
          "state": {
            "_view_name": "LayoutView",
            "grid_template_rows": null,
            "right": null,
            "justify_content": null,
            "_view_module": "@jupyter-widgets/base",
            "overflow": null,
            "_model_module_version": "1.2.0",
            "_view_count": null,
            "flex_flow": null,
            "width": null,
            "min_width": null,
            "border": null,
            "align_items": null,
            "bottom": null,
            "_model_module": "@jupyter-widgets/base",
            "top": null,
            "grid_column": null,
            "overflow_y": null,
            "overflow_x": null,
            "grid_auto_flow": null,
            "grid_area": null,
            "grid_template_columns": null,
            "flex": null,
            "_model_name": "LayoutModel",
            "justify_items": null,
            "grid_row": null,
            "max_height": null,
            "align_content": null,
            "visibility": null,
            "align_self": null,
            "height": null,
            "min_height": null,
            "padding": null,
            "grid_auto_rows": null,
            "grid_gap": null,
            "max_width": null,
            "order": null,
            "_view_module_version": "1.2.0",
            "grid_template_areas": null,
            "object_position": null,
            "object_fit": null,
            "grid_auto_columns": null,
            "margin": null,
            "display": null,
            "left": null
          }
        }
      }
    }
  },
  "cells": [
    {
      "cell_type": "markdown",
      "metadata": {
        "id": "view-in-github",
        "colab_type": "text"
      },
      "source": [
        "<a href=\"https://colab.research.google.com/github/wjs20/OAS_data_mining/blob/main/clean_oas_paired.ipynb\" target=\"_parent\"><img src=\"https://colab.research.google.com/assets/colab-badge.svg\" alt=\"Open In Colab\"/></a>"
      ]
    },
    {
      "cell_type": "code",
      "metadata": {
        "id": "ehwYfbftYPTN"
      },
      "source": [
        "from pathlib import Path\r\n",
        "from tqdm.auto import tqdm\r\n",
        "from collections import Counter\r\n",
        "import pandas as pd\r\n",
        "import re"
      ],
      "execution_count": 2,
      "outputs": []
    },
    {
      "cell_type": "code",
      "metadata": {
        "id": "7LyXySYCegCn"
      },
      "source": [
        "# download seq files \r\n",
        "\r\n",
        "sf = \"\"\"wget http://opig.stats.ox.ac.uk/webapps/ngsdb/paired_csv/Setliff_2019/SRR10313332_paired.csv.gz\r\n",
        "wget http://opig.stats.ox.ac.uk/webapps/ngsdb/paired_csv/Setliff_2019/SRR10313335_paired.csv.gz\r\n",
        "wget http://opig.stats.ox.ac.uk/webapps/ngsdb/paired_csv/Goldstein_2019/SRR9179273_paired.csv.gz\r\n",
        "wget http://opig.stats.ox.ac.uk/webapps/ngsdb/paired_csv/Goldstein_2019/SRR9179279_paired.csv.gz\r\n",
        "wget http://opig.stats.ox.ac.uk/webapps/ngsdb/paired_csv/Goldstein_2019/SRR9179277_paired.csv.gz\r\n",
        "wget http://opig.stats.ox.ac.uk/webapps/ngsdb/paired_csv/Goldstein_2019/SRR9179287_paired.csv.gz\r\n",
        "wget http://opig.stats.ox.ac.uk/webapps/ngsdb/paired_csv/Goldstein_2019/SRR9179281_paired.csv.gz\r\n",
        "wget http://opig.stats.ox.ac.uk/webapps/ngsdb/paired_csv/Goldstein_2019/SRR9179288_paired.csv.gz\r\n",
        "wget http://opig.stats.ox.ac.uk/webapps/ngsdb/paired_csv/Goldstein_2019/SRR9179295_paired.csv.gz\r\n",
        "wget http://opig.stats.ox.ac.uk/webapps/ngsdb/paired_csv/Goldstein_2019/SRR9179276_paired.csv.gz\r\n",
        "wget http://opig.stats.ox.ac.uk/webapps/ngsdb/paired_csv/Goldstein_2019/SRR9179300_paired.csv.gz\r\n",
        "wget http://opig.stats.ox.ac.uk/webapps/ngsdb/paired_csv/Goldstein_2019/SRR9179299_paired.csv.gz\r\n",
        "wget http://opig.stats.ox.ac.uk/webapps/ngsdb/paired_csv/Goldstein_2019/SRR9179298_paired.csv.gz\r\n",
        "wget http://opig.stats.ox.ac.uk/webapps/ngsdb/paired_csv/Goldstein_2019/SRR9179280_paired.csv.gz\r\n",
        "wget http://opig.stats.ox.ac.uk/webapps/ngsdb/paired_csv/Goldstein_2019/SRR9179292_paired.csv.gz\r\n",
        "wget http://opig.stats.ox.ac.uk/webapps/ngsdb/paired_csv/Goldstein_2019/SRR9179285_paired.csv.gz\r\n",
        "wget http://opig.stats.ox.ac.uk/webapps/ngsdb/paired_csv/Goldstein_2019/SRR9179283_paired.csv.gz\r\n",
        "wget http://opig.stats.ox.ac.uk/webapps/ngsdb/paired_csv/Goldstein_2019/SRR9179274_paired.csv.gz\r\n",
        "wget http://opig.stats.ox.ac.uk/webapps/ngsdb/paired_csv/Goldstein_2019/SRR9179289_paired.csv.gz\r\n",
        "wget http://opig.stats.ox.ac.uk/webapps/ngsdb/paired_csv/Goldstein_2019/SRR9179278_paired.csv.gz\r\n",
        "wget http://opig.stats.ox.ac.uk/webapps/ngsdb/paired_csv/Goldstein_2019/SRR9179297_paired.csv.gz\r\n",
        "wget http://opig.stats.ox.ac.uk/webapps/ngsdb/paired_csv/Goldstein_2019/SRR9179291_paired.csv.gz\r\n",
        "wget http://opig.stats.ox.ac.uk/webapps/ngsdb/paired_csv/Goldstein_2019/SRR9179293_paired.csv.gz\r\n",
        "wget http://opig.stats.ox.ac.uk/webapps/ngsdb/paired_csv/Goldstein_2019/SRR9179275_paired.csv.gz\r\n",
        "wget http://opig.stats.ox.ac.uk/webapps/ngsdb/paired_csv/Goldstein_2019/SRR9179290_paired.csv.gz\r\n",
        "wget http://opig.stats.ox.ac.uk/webapps/ngsdb/paired_csv/Goldstein_2019/SRR9179284_paired.csv.gz\r\n",
        "wget http://opig.stats.ox.ac.uk/webapps/ngsdb/paired_csv/Goldstein_2019/SRR9179294_paired.csv.gz\r\n",
        "wget http://opig.stats.ox.ac.uk/webapps/ngsdb/paired_csv/Goldstein_2019/SRR9179296_paired.csv.gz\r\n",
        "wget http://opig.stats.ox.ac.uk/webapps/ngsdb/paired_csv/Goldstein_2019/SRR9179282_paired.csv.gz\r\n",
        "wget http://opig.stats.ox.ac.uk/webapps/ngsdb/paired_csv/Goldstein_2019/SRR9179286_paired.csv.gz\r\n",
        "wget http://opig.stats.ox.ac.uk/webapps/ngsdb/paired_csv/Alsoiussi_2020/SRR11528761_paired.csv.gz\r\n",
        "wget http://opig.stats.ox.ac.uk/webapps/ngsdb/paired_csv/Alsoiussi_2020/SRR11528762_paired.csv.gz\r\n",
        "wget http://opig.stats.ox.ac.uk/webapps/ngsdb/paired_csv/King_2020/BCP006_IgMnegMBC_scVDJ_filtered_contigs_paired.csv.gz\r\n",
        "wget http://opig.stats.ox.ac.uk/webapps/ngsdb/paired_csv/King_2020/BCP008_IgMneg_MBC_scVDJ_filtered_contigs_paired.csv.gz\r\n",
        "wget http://opig.stats.ox.ac.uk/webapps/ngsdb/paired_csv/King_2020/BCP004_MBC_scVDJ_filtered_contigs_paired.csv.gz\r\n",
        "wget http://opig.stats.ox.ac.uk/webapps/ngsdb/paired_csv/King_2020/BCP006_Total_scVDJ_filtered_contigs_paired.csv.gz\r\n",
        "wget http://opig.stats.ox.ac.uk/webapps/ngsdb/paired_csv/King_2020/BCP003_Total_scVDJ_filtered_contigs_paired.csv.gz\r\n",
        "wget http://opig.stats.ox.ac.uk/webapps/ngsdb/paired_csv/King_2020/BCP009_IgMneg_MBC_scVDJ_filtered_contigs_paired.csv.gz\r\n",
        "wget http://opig.stats.ox.ac.uk/webapps/ngsdb/paired_csv/King_2020/BCP009_Total_scVDJ_filtered_contigs_paired.csv.gz\r\n",
        "wget http://opig.stats.ox.ac.uk/webapps/ngsdb/paired_csv/King_2020/BCP003_MBC_scVDJ_filtered_contigs_paired.csv.gz\r\n",
        "wget http://opig.stats.ox.ac.uk/webapps/ngsdb/paired_csv/King_2020/BCP008_Total_scVDJ_filtered_contigs_paired.csv.gz\r\n",
        "wget http://opig.stats.ox.ac.uk/webapps/ngsdb/paired_csv/King_2020/BCP005_IgMnegMBC_scVDJ_filtered_contigs_paired.csv.gz\r\n",
        "wget http://opig.stats.ox.ac.uk/webapps/ngsdb/paired_csv/King_2020/BCP004_Total_scVDJ_filtered_contigs_paired.csv.gz\r\n",
        "wget http://opig.stats.ox.ac.uk/webapps/ngsdb/paired_csv/King_2020/BCP005_Total_scVDJ_filtered_contigs_paired.csv.gz\r\n",
        "wget http://opig.stats.ox.ac.uk/webapps/ngsdb/paired_csv/Eccles_2020/SRR10358523_paired.csv.gz\r\n",
        "wget http://opig.stats.ox.ac.uk/webapps/ngsdb/paired_csv/Eccles_2020/SRR10358524_paired.csv.gz\r\n",
        "wget http://opig.stats.ox.ac.uk/webapps/ngsdb/paired_csv/Eccles_2020/SRR10358525_paired.csv.gz\r\n",
        "\"\"\"\r\n",
        "\r\n",
        "sf = sf.replace(\"wget \", \"\")\r\n",
        "\r\n",
        "with open('paired_seq_files.txt', 'wt') as f:\r\n",
        "    f.write(sf)"
      ],
      "execution_count": 3,
      "outputs": []
    },
    {
      "cell_type": "code",
      "metadata": {
        "id": "U5f62Ps9epOO"
      },
      "source": [
        "%%capture\r\n",
        "!wget -x -nH --cut-dirs=2 -i paired_seq_files.txt"
      ],
      "execution_count": 4,
      "outputs": []
    },
    {
      "cell_type": "code",
      "metadata": {
        "id": "hv1eB0qIes41"
      },
      "source": [
        "!gunzip -r paired_csv"
      ],
      "execution_count": 5,
      "outputs": []
    },
    {
      "cell_type": "code",
      "metadata": {
        "id": "ETW49ZwVe1et"
      },
      "source": [
        "# format metadata\r\n",
        "\r\n",
        "meta = \"\"\"Details\tstudy\tFiltered Sequences\tOrganism\tIsotype\tChain\tDisease\tVaccine\tIndividual\tAge\tLongitudinal\r\n",
        "Details\tSetliff_2019\t4103\thuman\tAll\tPaired\tHIV\tNone\tDonor-45\tno\tYear-17\r\n",
        "Details\tSetliff_2019\t1444\thuman\tAll\tPaired\tHIV\tNone\tDonor-N90\tno\tYear-23\r\n",
        "Details\tGoldstein_2019\t2287\tmouse_BALB/c\tAll\tPaired\tNone\tNone\tMouse_1_Replicate-1\t8-10 weeks\tno\r\n",
        "Details\tGoldstein_2019\t2293\tmouse_BALB/c\tAll\tPaired\tNone\tNone\tMouse_1_Replicate-1\t8-10 weeks\tno\r\n",
        "Details\tGoldstein_2019\t3176\trat_SD\tAll\tPaired\tNone\tNone\tRat_2_Replicate-2\t8-10 weeks\tno\r\n",
        "Details\tGoldstein_2019\t1085\trat_SD\tAll\tPaired\tNone\tOVA\tRat_Replicate-1\t8-10 weeks\tno\r\n",
        "Details\tGoldstein_2019\t3188\trat_SD\tAll\tPaired\tNone\tNone\tRat_2_Replicate-2\t8-10 weeks\tno\r\n",
        "Details\tGoldstein_2019\t1085\trat_SD\tAll\tPaired\tNone\tOVA\tRat_Replicate-1\t8-10 weeks\tno\r\n",
        "Details\tGoldstein_2019\t2463\trat_SD\tAll\tPaired\tNone\tNone\tRat_1_Replicate-1\t8-10 weeks\tno\r\n",
        "Details\tGoldstein_2019\t3654\trat_SD\tAll\tPaired\tNone\tNone\tRat_2_Replicate-2\t8-10 weeks\tno\r\n",
        "Details\tGoldstein_2019\t3165\trat_SD\tAll\tPaired\tNone\tNone\tRat_1_Replicate-1\t8-10 weeks\tno\r\n",
        "Details\tGoldstein_2019\t3131\trat_SD\tAll\tPaired\tNone\tNone\tRat_1_Replicate-1\t8-10 weeks\tno\r\n",
        "Details\tGoldstein_2019\t3285\trat_SD\tAll\tPaired\tNone\tNone\tRat_1_Replicate-1\t8-10 weeks\tno\r\n",
        "Details\tGoldstein_2019\t2407\tmouse_BALB/c\tAll\tPaired\tNone\tNone\tMouse_1_Replicate-1\t8-10 weeks\tno\r\n",
        "Details\tGoldstein_2019\t3305\trat_SD\tAll\tPaired\tNone\tNone\tRat_2_Replicate-2\t8-10 weeks\tno\r\n",
        "Details\tGoldstein_2019\t2111\tmouse_BALB/c\tAll\tPaired\tNone\tNone\tMouse_2_Replicate-2\t8-10 weeks\tno\r\n",
        "Details\tGoldstein_2019\t2018\tmouse_BALB/c\tAll\tPaired\tNone\tNone\tMouse_2_Replicate-2\t8-10 weeks\tno\r\n",
        "Details\tGoldstein_2019\t2557\tmouse_BALB/c\tAll\tPaired\tNone\tNone\tMouse_1_Replicate-1\t8-10 weeks\tno\r\n",
        "Details\tGoldstein_2019\t1070\trat_SD\tAll\tPaired\tNone\tOVA\tRat_Replicate-1\t8-10 weeks\tno\r\n",
        "Details\tGoldstein_2019\t3389\trat_SD\tAll\tPaired\tNone\tNone\tRat_2_Replicate-2\t8-10 weeks\tno\r\n",
        "Details\tGoldstein_2019\t2956\trat_SD\tAll\tPaired\tNone\tNone\tRat_1_Replicate-1\t8-10 weeks\tno\r\n",
        "Details\tGoldstein_2019\t2400\trat_SD\tAll\tPaired\tNone\tNone\tRat_2_Replicate-2\t8-10 weeks\tno\r\n",
        "Details\tGoldstein_2019\t3457\trat_SD\tAll\tPaired\tNone\tNone\tRat_1_Replicate-1\t8-10 weeks\tno\r\n",
        "Details\tGoldstein_2019\t3942\trat_SD\tAll\tPaired\tNone\tNone\tRat_2_Replicate-2\t8-10 weeks\tno\r\n",
        "Details\tGoldstein_2019\t1117\trat_SD\tAll\tPaired\tNone\tOVA\tRat_Replicate-1\t8-10 weeks\tno\r\n",
        "Details\tGoldstein_2019\t1700\tmouse_BALB/c\tAll\tPaired\tNone\tNone\tMouse_2_Replicate-2\t8-10 weeks\tno\r\n",
        "Details\tGoldstein_2019\t3285\trat_SD\tAll\tPaired\tNone\tNone\tRat_1_Replicate-1\t8-10 weeks\tno\r\n",
        "Details\tGoldstein_2019\t3276\trat_SD\tAll\tPaired\tNone\tNone\tRat_1_Replicate-1\t8-10 weeks\tno\r\n",
        "Details\tGoldstein_2019\t3513\trat_SD\tAll\tPaired\tNone\tNone\tRat_2_Replicate-2\t8-10 weeks\tno\r\n",
        "Details\tGoldstein_2019\t1746\tmouse_BALB/c\tAll\tPaired\tNone\tNone\tMouse_2_Replicate-2\t8-10 weeks\tno\r\n",
        "Details\tAlsoiussi_2020\t5742\tmouse_C57BL/6\tAll\tPaired\tSARS-COV-2\tNone\tno\t10 weeks\tno\r\n",
        "Details\tAlsoiussi_2020\t5646\tmouse_C57BL/6\tAll\tPaired\tSARS-COV-2\tNone\tno\t10 weeks\tno\r\n",
        "Details\tKing_2020\t3358\thuman\tAll\tPaired\tTonsillitis and obstructive sleep apnea\tNone\tBCP6\tYear-5\tno\r\n",
        "Details\tKing_2020\t1075\thuman\tAll\tPaired\tTonsillitis and obstructive sleep apnea\tNone\tBCP8\tYear-3\tno\r\n",
        "Details\tKing_2020\t2090\thuman\tAll\tPaired\tTonsillitis\tNone\tBCP4\tYear-6\tno\r\n",
        "Details\tKing_2020\t2812\thuman\tAll\tPaired\tTonsillitis and obstructive sleep apnea\tNone\tBCP6\tYear-5\tno\r\n",
        "Details\tKing_2020\t1120\thuman\tAll\tPaired\tobstructive sleep apnea\tNone\tBCP3\tYear-6\tno\r\n",
        "Details\tKing_2020\t3390\thuman\tAll\tPaired\tTonsillitis\tNone\tBCP9\tYear-9\tno\r\n",
        "Details\tKing_2020\t2978\thuman\tAll\tPaired\tTonsillitis\tNone\tBCP9\tYear-9\tno\r\n",
        "Details\tKing_2020\t2207\thuman\tAll\tPaired\tobstructive sleep apnea\tNone\tBCP3\tYear-6\tno\r\n",
        "Details\tKing_2020\t2888\thuman\tAll\tPaired\tTonsillitis and obstructive sleep apnea\tNone\tBCP8\tYear-3\tno\r\n",
        "Details\tKing_2020\t5793\thuman\tAll\tPaired\tTonsillitis\tNone\tBCP5\tYear-3\tno\r\n",
        "Details\tKing_2020\t425\thuman\tAll\tPaired\tTonsillitis\tNone\tBCP4\tYear-6\tno\r\n",
        "Details\tKing_2020\t2935\thuman\tAll\tPaired\tTonsillitis\tNone\tBCP5\tYear-3\tno\r\n",
        "Details\tEccles_2020\t100\thuman\tAll\tPaired\tNone\tNone\thealthy-1\tYear-33\tno\r\n",
        "Details\tEccles_2020\t47\thuman\tAll\tPaired\tNone\tNone\thealthy-1\tYear-33\tno\r\n",
        "Details\tEccles_2020\t624\thuman\tAll\tPaired\tNone\tNone\thealthy-1\tYear-33\tno\"\"\"\r\n",
        "\r\n",
        "meta = [l.split('\\t') for l in meta.split('\\n')]\r\n",
        "columns = [s.lower().replace(' ', '_') for s in meta[0]]"
      ],
      "execution_count": 6,
      "outputs": []
    },
    {
      "cell_type": "code",
      "metadata": {
        "colab": {
          "base_uri": "https://localhost:8080/",
          "height": 66,
          "referenced_widgets": [
            "92fe1bb7e4734e28927ec4f221e7b672",
            "0cd884816fa04d40ba389e362813c5ab",
            "0d6c012311d6405aa989f33ad3552c18",
            "a1cf2f7d219d456086dd081eceba537e",
            "1589db7c509344df94462e57fece46d8",
            "eddeee61266b4278aaea6c0da8692d53",
            "bab2c1edc64341e3b9b9ddb811b6b804",
            "9b031743a5af46f4aa67fe457f355038"
          ]
        },
        "id": "HH_yg6-pe4vU",
        "outputId": "c30a420f-6904-4742-a137-6db7dc597133"
      },
      "source": [
        "# read in csvs and join with correct study metadata\r\n",
        "p = Path()/'paired_csv'\r\n",
        "csv_files = list(p.glob('**/*.csv'))\r\n",
        "dfs = []\r\n",
        "for file, meta in tqdm(zip(csv_files, meta[1:]), total=len(csv_files)):\r\n",
        "    df = pd.read_csv(file, skiprows=1)\r\n",
        "    for k,v in zip(columns, meta):\r\n",
        "        df[k] = v\r\n",
        "    dfs.append(df)\r\n",
        "oas = pd.concat(dfs)\r\n",
        "\r\n",
        "# remove trailing subspecies string from organism series \r\n",
        "orgs = list(oas.organism.unique())\r\n",
        "r = re.compile('(?<=\\w)_.*')\r\n",
        "oas['organism'] = oas.organism.str.replace(r, '')"
      ],
      "execution_count": 7,
      "outputs": [
        {
          "output_type": "display_data",
          "data": {
            "application/vnd.jupyter.widget-view+json": {
              "model_id": "92fe1bb7e4734e28927ec4f221e7b672",
              "version_minor": 0,
              "version_major": 2
            },
            "text/plain": [
              "HBox(children=(FloatProgress(value=0.0, max=47.0), HTML(value='')))"
            ]
          },
          "metadata": {
            "tags": []
          }
        },
        {
          "output_type": "stream",
          "text": [
            "\n"
          ],
          "name": "stdout"
        }
      ]
    },
    {
      "cell_type": "code",
      "metadata": {
        "collapsed": true,
        "id": "-RysIuO9qzaT",
        "outputId": "2bfdde8d-90ac-4dd4-a45f-bb1ba14276dd",
        "colab": {
          "base_uri": "https://localhost:8080/"
        }
      },
      "source": [
        "for animal in oas.organism.unique():\r\n",
        "    print(animal, oas.loc[oas['organism'] == animal, 'sequence_alignment_aa_heavy'].nunique())\r\n",
        "print('total', oas.sequence_alignment_aa_heavy.nunique())\r\n",
        "\r\n",
        "# number of unique sequences for every species in dataset\r\n",
        "    # human 34131\r\n",
        "    # mouse 23087\r\n",
        "    # rat 51733\r\n",
        "    # total 108493"
      ],
      "execution_count": 8,
      "outputs": [
        {
          "output_type": "stream",
          "text": [
            "human 34131\n",
            "mouse 23087\n",
            "rat 51733\n",
            "total 108493\n"
          ],
          "name": "stdout"
        }
      ]
    },
    {
      "cell_type": "code",
      "metadata": {
        "id": "91E6o2t3E6_7"
      },
      "source": [
        "import numpy as np"
      ],
      "execution_count": 19,
      "outputs": []
    },
    {
      "cell_type": "code",
      "metadata": {
        "collapsed": true,
        "id": "0TJNGY_CvPET"
      },
      "source": [
        "# save data to drive\r\n",
        "import json\r\n",
        "from pathlib import Path\r\n",
        "from collections import defaultdict\r\n",
        "\r\n",
        "aa = list(oas.sequence_alignment_aa_heavy + oas.sequence_alignment_aa_light)\r\n",
        "org = list(oas.organism)\r\n",
        "org_dict = defaultdict(list)\r\n",
        "\r\n",
        "for org, aa in zip(org, aa):\r\n",
        "    org_dict[org].append(aa)\r\n",
        "\r\n",
        "for s in org_dict.keys():\r\n",
        "    org_dict[s] = list(set(org_dict[s]))\r\n",
        "\r\n",
        "p = Path()/'drive'/'MyDrive'/'data'\r\n",
        "with open(p/'seqs.json', 'w') as f:\r\n",
        "    json.dump(org_dict, f)\r\n",
        "\r\n",
        "oas.to_csv(p/'oas.csv')"
      ],
      "execution_count": 61,
      "outputs": []
    }
  ]
}