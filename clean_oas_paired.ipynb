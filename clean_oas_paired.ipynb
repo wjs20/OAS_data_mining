{
  "nbformat": 4,
  "nbformat_minor": 0,
  "metadata": {
    "colab": {
      "name": "clean_oas_paired.ipynb",
      "provenance": [],
      "authorship_tag": "ABX9TyNWCJgUCtVlOP7d2GZ22YMS",
      "include_colab_link": true
    },
    "kernelspec": {
      "name": "python3",
      "display_name": "Python 3"
    },
    "widgets": {
      "application/vnd.jupyter.widget-state+json": {
        "b779b26c0d614ac5b05627d91a270642": {
          "model_module": "@jupyter-widgets/controls",
          "model_name": "HBoxModel",
          "state": {
            "_view_name": "HBoxView",
            "_dom_classes": [],
            "_model_name": "HBoxModel",
            "_view_module": "@jupyter-widgets/controls",
            "_model_module_version": "1.5.0",
            "_view_count": null,
            "_view_module_version": "1.5.0",
            "box_style": "",
            "layout": "IPY_MODEL_0d47d92d285341ac943a159f695ea887",
            "_model_module": "@jupyter-widgets/controls",
            "children": [
              "IPY_MODEL_e772295daa434cc78a36f72a0959fcae",
              "IPY_MODEL_0d60d114cd7e4c0981557c28711f9435"
            ]
          }
        },
        "0d47d92d285341ac943a159f695ea887": {
          "model_module": "@jupyter-widgets/base",
          "model_name": "LayoutModel",
          "state": {
            "_view_name": "LayoutView",
            "grid_template_rows": null,
            "right": null,
            "justify_content": null,
            "_view_module": "@jupyter-widgets/base",
            "overflow": null,
            "_model_module_version": "1.2.0",
            "_view_count": null,
            "flex_flow": null,
            "width": null,
            "min_width": null,
            "border": null,
            "align_items": null,
            "bottom": null,
            "_model_module": "@jupyter-widgets/base",
            "top": null,
            "grid_column": null,
            "overflow_y": null,
            "overflow_x": null,
            "grid_auto_flow": null,
            "grid_area": null,
            "grid_template_columns": null,
            "flex": null,
            "_model_name": "LayoutModel",
            "justify_items": null,
            "grid_row": null,
            "max_height": null,
            "align_content": null,
            "visibility": null,
            "align_self": null,
            "height": null,
            "min_height": null,
            "padding": null,
            "grid_auto_rows": null,
            "grid_gap": null,
            "max_width": null,
            "order": null,
            "_view_module_version": "1.2.0",
            "grid_template_areas": null,
            "object_position": null,
            "object_fit": null,
            "grid_auto_columns": null,
            "margin": null,
            "display": null,
            "left": null
          }
        },
        "e772295daa434cc78a36f72a0959fcae": {
          "model_module": "@jupyter-widgets/controls",
          "model_name": "FloatProgressModel",
          "state": {
            "_view_name": "ProgressView",
            "style": "IPY_MODEL_10d27b1e22e54664aa67f7c92d6c08f6",
            "_dom_classes": [],
            "description": "100%",
            "_model_name": "FloatProgressModel",
            "bar_style": "success",
            "max": 47,
            "_view_module": "@jupyter-widgets/controls",
            "_model_module_version": "1.5.0",
            "value": 47,
            "_view_count": null,
            "_view_module_version": "1.5.0",
            "orientation": "horizontal",
            "min": 0,
            "description_tooltip": null,
            "_model_module": "@jupyter-widgets/controls",
            "layout": "IPY_MODEL_e77961a4ab304be1878f4074dbf93c75"
          }
        },
        "0d60d114cd7e4c0981557c28711f9435": {
          "model_module": "@jupyter-widgets/controls",
          "model_name": "HTMLModel",
          "state": {
            "_view_name": "HTMLView",
            "style": "IPY_MODEL_d0fed8f6b9914a268ffa30ddd71f8acd",
            "_dom_classes": [],
            "description": "",
            "_model_name": "HTMLModel",
            "placeholder": "​",
            "_view_module": "@jupyter-widgets/controls",
            "_model_module_version": "1.5.0",
            "value": " 47/47 [00:29&lt;00:00,  1.57it/s]",
            "_view_count": null,
            "_view_module_version": "1.5.0",
            "description_tooltip": null,
            "_model_module": "@jupyter-widgets/controls",
            "layout": "IPY_MODEL_f86ae35702844a9dbc7644e3c2fd2b53"
          }
        },
        "10d27b1e22e54664aa67f7c92d6c08f6": {
          "model_module": "@jupyter-widgets/controls",
          "model_name": "ProgressStyleModel",
          "state": {
            "_view_name": "StyleView",
            "_model_name": "ProgressStyleModel",
            "description_width": "initial",
            "_view_module": "@jupyter-widgets/base",
            "_model_module_version": "1.5.0",
            "_view_count": null,
            "_view_module_version": "1.2.0",
            "bar_color": null,
            "_model_module": "@jupyter-widgets/controls"
          }
        },
        "e77961a4ab304be1878f4074dbf93c75": {
          "model_module": "@jupyter-widgets/base",
          "model_name": "LayoutModel",
          "state": {
            "_view_name": "LayoutView",
            "grid_template_rows": null,
            "right": null,
            "justify_content": null,
            "_view_module": "@jupyter-widgets/base",
            "overflow": null,
            "_model_module_version": "1.2.0",
            "_view_count": null,
            "flex_flow": null,
            "width": null,
            "min_width": null,
            "border": null,
            "align_items": null,
            "bottom": null,
            "_model_module": "@jupyter-widgets/base",
            "top": null,
            "grid_column": null,
            "overflow_y": null,
            "overflow_x": null,
            "grid_auto_flow": null,
            "grid_area": null,
            "grid_template_columns": null,
            "flex": null,
            "_model_name": "LayoutModel",
            "justify_items": null,
            "grid_row": null,
            "max_height": null,
            "align_content": null,
            "visibility": null,
            "align_self": null,
            "height": null,
            "min_height": null,
            "padding": null,
            "grid_auto_rows": null,
            "grid_gap": null,
            "max_width": null,
            "order": null,
            "_view_module_version": "1.2.0",
            "grid_template_areas": null,
            "object_position": null,
            "object_fit": null,
            "grid_auto_columns": null,
            "margin": null,
            "display": null,
            "left": null
          }
        },
        "d0fed8f6b9914a268ffa30ddd71f8acd": {
          "model_module": "@jupyter-widgets/controls",
          "model_name": "DescriptionStyleModel",
          "state": {
            "_view_name": "StyleView",
            "_model_name": "DescriptionStyleModel",
            "description_width": "",
            "_view_module": "@jupyter-widgets/base",
            "_model_module_version": "1.5.0",
            "_view_count": null,
            "_view_module_version": "1.2.0",
            "_model_module": "@jupyter-widgets/controls"
          }
        },
        "f86ae35702844a9dbc7644e3c2fd2b53": {
          "model_module": "@jupyter-widgets/base",
          "model_name": "LayoutModel",
          "state": {
            "_view_name": "LayoutView",
            "grid_template_rows": null,
            "right": null,
            "justify_content": null,
            "_view_module": "@jupyter-widgets/base",
            "overflow": null,
            "_model_module_version": "1.2.0",
            "_view_count": null,
            "flex_flow": null,
            "width": null,
            "min_width": null,
            "border": null,
            "align_items": null,
            "bottom": null,
            "_model_module": "@jupyter-widgets/base",
            "top": null,
            "grid_column": null,
            "overflow_y": null,
            "overflow_x": null,
            "grid_auto_flow": null,
            "grid_area": null,
            "grid_template_columns": null,
            "flex": null,
            "_model_name": "LayoutModel",
            "justify_items": null,
            "grid_row": null,
            "max_height": null,
            "align_content": null,
            "visibility": null,
            "align_self": null,
            "height": null,
            "min_height": null,
            "padding": null,
            "grid_auto_rows": null,
            "grid_gap": null,
            "max_width": null,
            "order": null,
            "_view_module_version": "1.2.0",
            "grid_template_areas": null,
            "object_position": null,
            "object_fit": null,
            "grid_auto_columns": null,
            "margin": null,
            "display": null,
            "left": null
          }
        }
      }
    }
  },
  "cells": [
    {
      "cell_type": "markdown",
      "metadata": {
        "id": "view-in-github",
        "colab_type": "text"
      },
      "source": [
        "<a href=\"https://colab.research.google.com/github/wjs20/OAS_data_mining/blob/main/clean_oas_paired.ipynb\" target=\"_parent\"><img src=\"https://colab.research.google.com/assets/colab-badge.svg\" alt=\"Open In Colab\"/></a>"
      ]
    },
    {
      "cell_type": "code",
      "metadata": {
        "id": "ehwYfbftYPTN"
      },
      "source": [
        "from pathlib import Path\r\n",
        "from tqdm.auto import tqdm\r\n",
        "from collections import Counter\r\n",
        "import pandas as pd"
      ],
      "execution_count": 44,
      "outputs": []
    },
    {
      "cell_type": "code",
      "metadata": {
        "id": "7LyXySYCegCn"
      },
      "source": [
        "# download seq files \r\n",
        "\r\n",
        "sf = \"\"\"wget http://opig.stats.ox.ac.uk/webapps/ngsdb/paired_csv/Setliff_2019/SRR10313332_paired.csv.gz\r\n",
        "wget http://opig.stats.ox.ac.uk/webapps/ngsdb/paired_csv/Setliff_2019/SRR10313335_paired.csv.gz\r\n",
        "wget http://opig.stats.ox.ac.uk/webapps/ngsdb/paired_csv/Goldstein_2019/SRR9179273_paired.csv.gz\r\n",
        "wget http://opig.stats.ox.ac.uk/webapps/ngsdb/paired_csv/Goldstein_2019/SRR9179279_paired.csv.gz\r\n",
        "wget http://opig.stats.ox.ac.uk/webapps/ngsdb/paired_csv/Goldstein_2019/SRR9179277_paired.csv.gz\r\n",
        "wget http://opig.stats.ox.ac.uk/webapps/ngsdb/paired_csv/Goldstein_2019/SRR9179287_paired.csv.gz\r\n",
        "wget http://opig.stats.ox.ac.uk/webapps/ngsdb/paired_csv/Goldstein_2019/SRR9179281_paired.csv.gz\r\n",
        "wget http://opig.stats.ox.ac.uk/webapps/ngsdb/paired_csv/Goldstein_2019/SRR9179288_paired.csv.gz\r\n",
        "wget http://opig.stats.ox.ac.uk/webapps/ngsdb/paired_csv/Goldstein_2019/SRR9179295_paired.csv.gz\r\n",
        "wget http://opig.stats.ox.ac.uk/webapps/ngsdb/paired_csv/Goldstein_2019/SRR9179276_paired.csv.gz\r\n",
        "wget http://opig.stats.ox.ac.uk/webapps/ngsdb/paired_csv/Goldstein_2019/SRR9179300_paired.csv.gz\r\n",
        "wget http://opig.stats.ox.ac.uk/webapps/ngsdb/paired_csv/Goldstein_2019/SRR9179299_paired.csv.gz\r\n",
        "wget http://opig.stats.ox.ac.uk/webapps/ngsdb/paired_csv/Goldstein_2019/SRR9179298_paired.csv.gz\r\n",
        "wget http://opig.stats.ox.ac.uk/webapps/ngsdb/paired_csv/Goldstein_2019/SRR9179280_paired.csv.gz\r\n",
        "wget http://opig.stats.ox.ac.uk/webapps/ngsdb/paired_csv/Goldstein_2019/SRR9179292_paired.csv.gz\r\n",
        "wget http://opig.stats.ox.ac.uk/webapps/ngsdb/paired_csv/Goldstein_2019/SRR9179285_paired.csv.gz\r\n",
        "wget http://opig.stats.ox.ac.uk/webapps/ngsdb/paired_csv/Goldstein_2019/SRR9179283_paired.csv.gz\r\n",
        "wget http://opig.stats.ox.ac.uk/webapps/ngsdb/paired_csv/Goldstein_2019/SRR9179274_paired.csv.gz\r\n",
        "wget http://opig.stats.ox.ac.uk/webapps/ngsdb/paired_csv/Goldstein_2019/SRR9179289_paired.csv.gz\r\n",
        "wget http://opig.stats.ox.ac.uk/webapps/ngsdb/paired_csv/Goldstein_2019/SRR9179278_paired.csv.gz\r\n",
        "wget http://opig.stats.ox.ac.uk/webapps/ngsdb/paired_csv/Goldstein_2019/SRR9179297_paired.csv.gz\r\n",
        "wget http://opig.stats.ox.ac.uk/webapps/ngsdb/paired_csv/Goldstein_2019/SRR9179291_paired.csv.gz\r\n",
        "wget http://opig.stats.ox.ac.uk/webapps/ngsdb/paired_csv/Goldstein_2019/SRR9179293_paired.csv.gz\r\n",
        "wget http://opig.stats.ox.ac.uk/webapps/ngsdb/paired_csv/Goldstein_2019/SRR9179275_paired.csv.gz\r\n",
        "wget http://opig.stats.ox.ac.uk/webapps/ngsdb/paired_csv/Goldstein_2019/SRR9179290_paired.csv.gz\r\n",
        "wget http://opig.stats.ox.ac.uk/webapps/ngsdb/paired_csv/Goldstein_2019/SRR9179284_paired.csv.gz\r\n",
        "wget http://opig.stats.ox.ac.uk/webapps/ngsdb/paired_csv/Goldstein_2019/SRR9179294_paired.csv.gz\r\n",
        "wget http://opig.stats.ox.ac.uk/webapps/ngsdb/paired_csv/Goldstein_2019/SRR9179296_paired.csv.gz\r\n",
        "wget http://opig.stats.ox.ac.uk/webapps/ngsdb/paired_csv/Goldstein_2019/SRR9179282_paired.csv.gz\r\n",
        "wget http://opig.stats.ox.ac.uk/webapps/ngsdb/paired_csv/Goldstein_2019/SRR9179286_paired.csv.gz\r\n",
        "wget http://opig.stats.ox.ac.uk/webapps/ngsdb/paired_csv/Alsoiussi_2020/SRR11528761_paired.csv.gz\r\n",
        "wget http://opig.stats.ox.ac.uk/webapps/ngsdb/paired_csv/Alsoiussi_2020/SRR11528762_paired.csv.gz\r\n",
        "wget http://opig.stats.ox.ac.uk/webapps/ngsdb/paired_csv/King_2020/BCP006_IgMnegMBC_scVDJ_filtered_contigs_paired.csv.gz\r\n",
        "wget http://opig.stats.ox.ac.uk/webapps/ngsdb/paired_csv/King_2020/BCP008_IgMneg_MBC_scVDJ_filtered_contigs_paired.csv.gz\r\n",
        "wget http://opig.stats.ox.ac.uk/webapps/ngsdb/paired_csv/King_2020/BCP004_MBC_scVDJ_filtered_contigs_paired.csv.gz\r\n",
        "wget http://opig.stats.ox.ac.uk/webapps/ngsdb/paired_csv/King_2020/BCP006_Total_scVDJ_filtered_contigs_paired.csv.gz\r\n",
        "wget http://opig.stats.ox.ac.uk/webapps/ngsdb/paired_csv/King_2020/BCP003_Total_scVDJ_filtered_contigs_paired.csv.gz\r\n",
        "wget http://opig.stats.ox.ac.uk/webapps/ngsdb/paired_csv/King_2020/BCP009_IgMneg_MBC_scVDJ_filtered_contigs_paired.csv.gz\r\n",
        "wget http://opig.stats.ox.ac.uk/webapps/ngsdb/paired_csv/King_2020/BCP009_Total_scVDJ_filtered_contigs_paired.csv.gz\r\n",
        "wget http://opig.stats.ox.ac.uk/webapps/ngsdb/paired_csv/King_2020/BCP003_MBC_scVDJ_filtered_contigs_paired.csv.gz\r\n",
        "wget http://opig.stats.ox.ac.uk/webapps/ngsdb/paired_csv/King_2020/BCP008_Total_scVDJ_filtered_contigs_paired.csv.gz\r\n",
        "wget http://opig.stats.ox.ac.uk/webapps/ngsdb/paired_csv/King_2020/BCP005_IgMnegMBC_scVDJ_filtered_contigs_paired.csv.gz\r\n",
        "wget http://opig.stats.ox.ac.uk/webapps/ngsdb/paired_csv/King_2020/BCP004_Total_scVDJ_filtered_contigs_paired.csv.gz\r\n",
        "wget http://opig.stats.ox.ac.uk/webapps/ngsdb/paired_csv/King_2020/BCP005_Total_scVDJ_filtered_contigs_paired.csv.gz\r\n",
        "wget http://opig.stats.ox.ac.uk/webapps/ngsdb/paired_csv/Eccles_2020/SRR10358523_paired.csv.gz\r\n",
        "wget http://opig.stats.ox.ac.uk/webapps/ngsdb/paired_csv/Eccles_2020/SRR10358524_paired.csv.gz\r\n",
        "wget http://opig.stats.ox.ac.uk/webapps/ngsdb/paired_csv/Eccles_2020/SRR10358525_paired.csv.gz\r\n",
        "\"\"\"\r\n",
        "\r\n",
        "sf = sf.replace(\"wget \", \"\")\r\n",
        "\r\n",
        "with open('paired_seq_files.txt', 'wt') as f:\r\n",
        "    f.write(sf)"
      ],
      "execution_count": 2,
      "outputs": []
    },
    {
      "cell_type": "code",
      "metadata": {
        "id": "U5f62Ps9epOO"
      },
      "source": [
        "%%capture\r\n",
        "!wget -x -nH --cut-dirs=2 -i paired_seq_files.txt"
      ],
      "execution_count": 3,
      "outputs": []
    },
    {
      "cell_type": "code",
      "metadata": {
        "id": "hv1eB0qIes41"
      },
      "source": [
        "!gunzip -r paired_csv"
      ],
      "execution_count": 4,
      "outputs": []
    },
    {
      "cell_type": "code",
      "metadata": {
        "id": "ETW49ZwVe1et"
      },
      "source": [
        "# format metadata\r\n",
        "\r\n",
        "meta = \"\"\"Details\tstudy\tFiltered Sequences\tOrganism\tIsotype\tChain\tDisease\tVaccine\tIndividual\tAge\tLongitudinal\r\n",
        "Details\tSetliff_2019\t4103\thuman\tAll\tPaired\tHIV\tNone\tDonor-45\tno\tYear-17\r\n",
        "Details\tSetliff_2019\t1444\thuman\tAll\tPaired\tHIV\tNone\tDonor-N90\tno\tYear-23\r\n",
        "Details\tGoldstein_2019\t2287\tmouse_BALB/c\tAll\tPaired\tNone\tNone\tMouse_1_Replicate-1\t8-10 weeks\tno\r\n",
        "Details\tGoldstein_2019\t2293\tmouse_BALB/c\tAll\tPaired\tNone\tNone\tMouse_1_Replicate-1\t8-10 weeks\tno\r\n",
        "Details\tGoldstein_2019\t3176\trat_SD\tAll\tPaired\tNone\tNone\tRat_2_Replicate-2\t8-10 weeks\tno\r\n",
        "Details\tGoldstein_2019\t1085\trat_SD\tAll\tPaired\tNone\tOVA\tRat_Replicate-1\t8-10 weeks\tno\r\n",
        "Details\tGoldstein_2019\t3188\trat_SD\tAll\tPaired\tNone\tNone\tRat_2_Replicate-2\t8-10 weeks\tno\r\n",
        "Details\tGoldstein_2019\t1085\trat_SD\tAll\tPaired\tNone\tOVA\tRat_Replicate-1\t8-10 weeks\tno\r\n",
        "Details\tGoldstein_2019\t2463\trat_SD\tAll\tPaired\tNone\tNone\tRat_1_Replicate-1\t8-10 weeks\tno\r\n",
        "Details\tGoldstein_2019\t3654\trat_SD\tAll\tPaired\tNone\tNone\tRat_2_Replicate-2\t8-10 weeks\tno\r\n",
        "Details\tGoldstein_2019\t3165\trat_SD\tAll\tPaired\tNone\tNone\tRat_1_Replicate-1\t8-10 weeks\tno\r\n",
        "Details\tGoldstein_2019\t3131\trat_SD\tAll\tPaired\tNone\tNone\tRat_1_Replicate-1\t8-10 weeks\tno\r\n",
        "Details\tGoldstein_2019\t3285\trat_SD\tAll\tPaired\tNone\tNone\tRat_1_Replicate-1\t8-10 weeks\tno\r\n",
        "Details\tGoldstein_2019\t2407\tmouse_BALB/c\tAll\tPaired\tNone\tNone\tMouse_1_Replicate-1\t8-10 weeks\tno\r\n",
        "Details\tGoldstein_2019\t3305\trat_SD\tAll\tPaired\tNone\tNone\tRat_2_Replicate-2\t8-10 weeks\tno\r\n",
        "Details\tGoldstein_2019\t2111\tmouse_BALB/c\tAll\tPaired\tNone\tNone\tMouse_2_Replicate-2\t8-10 weeks\tno\r\n",
        "Details\tGoldstein_2019\t2018\tmouse_BALB/c\tAll\tPaired\tNone\tNone\tMouse_2_Replicate-2\t8-10 weeks\tno\r\n",
        "Details\tGoldstein_2019\t2557\tmouse_BALB/c\tAll\tPaired\tNone\tNone\tMouse_1_Replicate-1\t8-10 weeks\tno\r\n",
        "Details\tGoldstein_2019\t1070\trat_SD\tAll\tPaired\tNone\tOVA\tRat_Replicate-1\t8-10 weeks\tno\r\n",
        "Details\tGoldstein_2019\t3389\trat_SD\tAll\tPaired\tNone\tNone\tRat_2_Replicate-2\t8-10 weeks\tno\r\n",
        "Details\tGoldstein_2019\t2956\trat_SD\tAll\tPaired\tNone\tNone\tRat_1_Replicate-1\t8-10 weeks\tno\r\n",
        "Details\tGoldstein_2019\t2400\trat_SD\tAll\tPaired\tNone\tNone\tRat_2_Replicate-2\t8-10 weeks\tno\r\n",
        "Details\tGoldstein_2019\t3457\trat_SD\tAll\tPaired\tNone\tNone\tRat_1_Replicate-1\t8-10 weeks\tno\r\n",
        "Details\tGoldstein_2019\t3942\trat_SD\tAll\tPaired\tNone\tNone\tRat_2_Replicate-2\t8-10 weeks\tno\r\n",
        "Details\tGoldstein_2019\t1117\trat_SD\tAll\tPaired\tNone\tOVA\tRat_Replicate-1\t8-10 weeks\tno\r\n",
        "Details\tGoldstein_2019\t1700\tmouse_BALB/c\tAll\tPaired\tNone\tNone\tMouse_2_Replicate-2\t8-10 weeks\tno\r\n",
        "Details\tGoldstein_2019\t3285\trat_SD\tAll\tPaired\tNone\tNone\tRat_1_Replicate-1\t8-10 weeks\tno\r\n",
        "Details\tGoldstein_2019\t3276\trat_SD\tAll\tPaired\tNone\tNone\tRat_1_Replicate-1\t8-10 weeks\tno\r\n",
        "Details\tGoldstein_2019\t3513\trat_SD\tAll\tPaired\tNone\tNone\tRat_2_Replicate-2\t8-10 weeks\tno\r\n",
        "Details\tGoldstein_2019\t1746\tmouse_BALB/c\tAll\tPaired\tNone\tNone\tMouse_2_Replicate-2\t8-10 weeks\tno\r\n",
        "Details\tAlsoiussi_2020\t5742\tmouse_C57BL/6\tAll\tPaired\tSARS-COV-2\tNone\tno\t10 weeks\tno\r\n",
        "Details\tAlsoiussi_2020\t5646\tmouse_C57BL/6\tAll\tPaired\tSARS-COV-2\tNone\tno\t10 weeks\tno\r\n",
        "Details\tKing_2020\t3358\thuman\tAll\tPaired\tTonsillitis and obstructive sleep apnea\tNone\tBCP6\tYear-5\tno\r\n",
        "Details\tKing_2020\t1075\thuman\tAll\tPaired\tTonsillitis and obstructive sleep apnea\tNone\tBCP8\tYear-3\tno\r\n",
        "Details\tKing_2020\t2090\thuman\tAll\tPaired\tTonsillitis\tNone\tBCP4\tYear-6\tno\r\n",
        "Details\tKing_2020\t2812\thuman\tAll\tPaired\tTonsillitis and obstructive sleep apnea\tNone\tBCP6\tYear-5\tno\r\n",
        "Details\tKing_2020\t1120\thuman\tAll\tPaired\tobstructive sleep apnea\tNone\tBCP3\tYear-6\tno\r\n",
        "Details\tKing_2020\t3390\thuman\tAll\tPaired\tTonsillitis\tNone\tBCP9\tYear-9\tno\r\n",
        "Details\tKing_2020\t2978\thuman\tAll\tPaired\tTonsillitis\tNone\tBCP9\tYear-9\tno\r\n",
        "Details\tKing_2020\t2207\thuman\tAll\tPaired\tobstructive sleep apnea\tNone\tBCP3\tYear-6\tno\r\n",
        "Details\tKing_2020\t2888\thuman\tAll\tPaired\tTonsillitis and obstructive sleep apnea\tNone\tBCP8\tYear-3\tno\r\n",
        "Details\tKing_2020\t5793\thuman\tAll\tPaired\tTonsillitis\tNone\tBCP5\tYear-3\tno\r\n",
        "Details\tKing_2020\t425\thuman\tAll\tPaired\tTonsillitis\tNone\tBCP4\tYear-6\tno\r\n",
        "Details\tKing_2020\t2935\thuman\tAll\tPaired\tTonsillitis\tNone\tBCP5\tYear-3\tno\r\n",
        "Details\tEccles_2020\t100\thuman\tAll\tPaired\tNone\tNone\thealthy-1\tYear-33\tno\r\n",
        "Details\tEccles_2020\t47\thuman\tAll\tPaired\tNone\tNone\thealthy-1\tYear-33\tno\r\n",
        "Details\tEccles_2020\t624\thuman\tAll\tPaired\tNone\tNone\thealthy-1\tYear-33\tno\"\"\"\r\n",
        "\r\n",
        "meta = [l.split('\\t') for l in meta.split('\\n')]\r\n",
        "columns = [s.lower().replace(' ', '_') for s in meta[0]]"
      ],
      "execution_count": 5,
      "outputs": []
    },
    {
      "cell_type": "code",
      "metadata": {
        "colab": {
          "base_uri": "https://localhost:8080/",
          "height": 66,
          "referenced_widgets": [
            "b779b26c0d614ac5b05627d91a270642",
            "0d47d92d285341ac943a159f695ea887",
            "e772295daa434cc78a36f72a0959fcae",
            "0d60d114cd7e4c0981557c28711f9435",
            "10d27b1e22e54664aa67f7c92d6c08f6",
            "e77961a4ab304be1878f4074dbf93c75",
            "d0fed8f6b9914a268ffa30ddd71f8acd",
            "f86ae35702844a9dbc7644e3c2fd2b53"
          ]
        },
        "id": "HH_yg6-pe4vU",
        "outputId": "b55bba72-72af-49b1-b6fc-16964c711ae0"
      },
      "source": [
        "p = Path()/'paired_csv'\r\n",
        "csv_files = list(p.glob('**/*.csv'))\r\n",
        "dfs = []\r\n",
        "for file, meta in tqdm(zip(csv_files, meta[1:]), total=len(csv_files)):\r\n",
        "    df = pd.read_csv(file, skiprows=1)\r\n",
        "    for k,v in zip(columns, meta):\r\n",
        "        df[k] = v\r\n",
        "    dfs.append(df)\r\n",
        "oas = pd.concat(dfs)"
      ],
      "execution_count": 6,
      "outputs": [
        {
          "output_type": "display_data",
          "data": {
            "application/vnd.jupyter.widget-view+json": {
              "model_id": "b779b26c0d614ac5b05627d91a270642",
              "version_minor": 0,
              "version_major": 2
            },
            "text/plain": [
              "HBox(children=(FloatProgress(value=0.0, max=47.0), HTML(value='')))"
            ]
          },
          "metadata": {
            "tags": []
          }
        },
        {
          "output_type": "stream",
          "text": [
            "\n"
          ],
          "name": "stdout"
        }
      ]
    }
  ]
}